{
 "cells": [
  {
   "cell_type": "markdown",
   "metadata": {},
   "source": [
    "## Imports"
   ]
  },
  {
   "cell_type": "code",
   "execution_count": 1,
   "metadata": {
    "ExecuteTime": {
     "end_time": "2019-11-06T08:34:39.417297Z",
     "start_time": "2019-11-06T08:34:38.240911Z"
    }
   },
   "outputs": [],
   "source": [
    "import pandas as pd\n",
    "pd.set_option('display.float_format', lambda x: '%.3f' % x)\n",
    "import numpy as np\n",
    "import matplotlib.pyplot as plt\n",
    "\n",
    "import datetime\n",
    "import time\n",
    "import re\n",
    "import math\n",
    "import numpy as np\n",
    "from sklearn.model_selection import train_test_split\n",
    "from sklearn.pipeline import Pipeline\n",
    "from matplotlib import pyplot as plt\n",
    "\n",
    "from sktime.classification.compose import ColumnEnsembleClassifier\n",
    "from sktime.classification.dictionary_based import BOSSEnsemble\n",
    "from sktime.classification.interval_based import TimeSeriesForestClassifier\n",
    "from sktime.classification.shapelet_based import MrSEQLClassifier\n",
    "from sktime.datasets import load_basic_motions\n",
    "from sktime.transformations.panel.compose import ColumnConcatenator"
   ]
  },
  {
   "cell_type": "markdown",
   "metadata": {},
   "source": [
    "## Preprocessing"
   ]
  },
  {
   "cell_type": "code",
   "execution_count": 2,
   "metadata": {
    "ExecuteTime": {
     "end_time": "2019-11-06T08:34:40.083548Z",
     "start_time": "2019-11-06T08:34:39.440991Z"
    }
   },
   "outputs": [],
   "source": [
    "name = \"data/2021-09-29_panda-intention-recognition\"    # all data\n",
    "#name = \"data/2022-01-14_intention-recognition3\"\n",
    "\n",
    "df = pd.read_csv(name + \".csv\")"
   ]
  },
  {
   "cell_type": "code",
   "execution_count": 3,
   "metadata": {
    "ExecuteTime": {
     "end_time": "2019-11-06T08:34:40.165147Z",
     "start_time": "2019-11-06T08:34:40.139694Z"
    },
    "scrolled": false
   },
   "outputs": [
    {
     "data": {
      "text/html": [
       "<div>\n",
       "<style scoped>\n",
       "    .dataframe tbody tr th:only-of-type {\n",
       "        vertical-align: middle;\n",
       "    }\n",
       "\n",
       "    .dataframe tbody tr th {\n",
       "        vertical-align: top;\n",
       "    }\n",
       "\n",
       "    .dataframe thead th {\n",
       "        text-align: right;\n",
       "    }\n",
       "</style>\n",
       "<table border=\"1\" class=\"dataframe\">\n",
       "  <thead>\n",
       "    <tr style=\"text-align: right;\">\n",
       "      <th></th>\n",
       "      <th>class</th>\n",
       "      <th>z_nose</th>\n",
       "      <th>z_nose_m10</th>\n",
       "      <th>head_posture_x</th>\n",
       "      <th>head_posture_y</th>\n",
       "      <th>z_wrist_l</th>\n",
       "      <th>z_wrist_r</th>\n",
       "      <th>z_wrist_l_m10</th>\n",
       "      <th>z_wrist_r_m10</th>\n",
       "      <th>z_shoulder_l_m10</th>\n",
       "      <th>...</th>\n",
       "      <th>z541</th>\n",
       "      <th>v541</th>\n",
       "      <th>x542</th>\n",
       "      <th>y542</th>\n",
       "      <th>z542</th>\n",
       "      <th>v542</th>\n",
       "      <th>x543</th>\n",
       "      <th>y543</th>\n",
       "      <th>z543</th>\n",
       "      <th>v543</th>\n",
       "    </tr>\n",
       "  </thead>\n",
       "  <tbody>\n",
       "    <tr>\n",
       "      <th>0</th>\n",
       "      <td>handOver</td>\n",
       "      <td>0.168</td>\n",
       "      <td>0.170</td>\n",
       "      <td>0.597</td>\n",
       "      <td>0.490</td>\n",
       "      <td>0.190</td>\n",
       "      <td>0.194</td>\n",
       "      <td>0.190</td>\n",
       "      <td>0.194</td>\n",
       "      <td>0.179</td>\n",
       "      <td>...</td>\n",
       "      <td>-0.030</td>\n",
       "      <td>0.000</td>\n",
       "      <td>0.519</td>\n",
       "      <td>0.409</td>\n",
       "      <td>-0.033</td>\n",
       "      <td>0.000</td>\n",
       "      <td>0.514</td>\n",
       "      <td>0.415</td>\n",
       "      <td>-0.036</td>\n",
       "      <td>0.000</td>\n",
       "    </tr>\n",
       "    <tr>\n",
       "      <th>1</th>\n",
       "      <td>handOver</td>\n",
       "      <td>0.161</td>\n",
       "      <td>0.161</td>\n",
       "      <td>0.487</td>\n",
       "      <td>0.383</td>\n",
       "      <td>0.181</td>\n",
       "      <td>0.189</td>\n",
       "      <td>0.181</td>\n",
       "      <td>0.188</td>\n",
       "      <td>0.171</td>\n",
       "      <td>...</td>\n",
       "      <td>-0.043</td>\n",
       "      <td>0.000</td>\n",
       "      <td>0.506</td>\n",
       "      <td>0.384</td>\n",
       "      <td>-0.050</td>\n",
       "      <td>0.000</td>\n",
       "      <td>0.499</td>\n",
       "      <td>0.387</td>\n",
       "      <td>-0.055</td>\n",
       "      <td>0.000</td>\n",
       "    </tr>\n",
       "    <tr>\n",
       "      <th>2</th>\n",
       "      <td>handOver</td>\n",
       "      <td>0.158</td>\n",
       "      <td>0.161</td>\n",
       "      <td>0.519</td>\n",
       "      <td>0.379</td>\n",
       "      <td>0.178</td>\n",
       "      <td>0.000</td>\n",
       "      <td>0.178</td>\n",
       "      <td>0.000</td>\n",
       "      <td>0.168</td>\n",
       "      <td>...</td>\n",
       "      <td>0.000</td>\n",
       "      <td>0.000</td>\n",
       "      <td>0.000</td>\n",
       "      <td>0.000</td>\n",
       "      <td>0.000</td>\n",
       "      <td>0.000</td>\n",
       "      <td>0.000</td>\n",
       "      <td>0.000</td>\n",
       "      <td>0.000</td>\n",
       "      <td>0.000</td>\n",
       "    </tr>\n",
       "    <tr>\n",
       "      <th>3</th>\n",
       "      <td>handOver</td>\n",
       "      <td>0.155</td>\n",
       "      <td>0.157</td>\n",
       "      <td>0.531</td>\n",
       "      <td>0.431</td>\n",
       "      <td>0.186</td>\n",
       "      <td>0.180</td>\n",
       "      <td>0.185</td>\n",
       "      <td>0.180</td>\n",
       "      <td>0.166</td>\n",
       "      <td>...</td>\n",
       "      <td>-0.026</td>\n",
       "      <td>0.000</td>\n",
       "      <td>0.477</td>\n",
       "      <td>0.387</td>\n",
       "      <td>-0.031</td>\n",
       "      <td>0.000</td>\n",
       "      <td>0.473</td>\n",
       "      <td>0.392</td>\n",
       "      <td>-0.036</td>\n",
       "      <td>0.000</td>\n",
       "    </tr>\n",
       "    <tr>\n",
       "      <th>4</th>\n",
       "      <td>handOver</td>\n",
       "      <td>0.153</td>\n",
       "      <td>0.154</td>\n",
       "      <td>0.550</td>\n",
       "      <td>0.423</td>\n",
       "      <td>0.000</td>\n",
       "      <td>0.176</td>\n",
       "      <td>0.000</td>\n",
       "      <td>0.176</td>\n",
       "      <td>0.165</td>\n",
       "      <td>...</td>\n",
       "      <td>-0.024</td>\n",
       "      <td>0.000</td>\n",
       "      <td>0.476</td>\n",
       "      <td>0.385</td>\n",
       "      <td>-0.027</td>\n",
       "      <td>0.000</td>\n",
       "      <td>0.472</td>\n",
       "      <td>0.387</td>\n",
       "      <td>-0.030</td>\n",
       "      <td>0.000</td>\n",
       "    </tr>\n",
       "    <tr>\n",
       "      <th>...</th>\n",
       "      <td>...</td>\n",
       "      <td>...</td>\n",
       "      <td>...</td>\n",
       "      <td>...</td>\n",
       "      <td>...</td>\n",
       "      <td>...</td>\n",
       "      <td>...</td>\n",
       "      <td>...</td>\n",
       "      <td>...</td>\n",
       "      <td>...</td>\n",
       "      <td>...</td>\n",
       "      <td>...</td>\n",
       "      <td>...</td>\n",
       "      <td>...</td>\n",
       "      <td>...</td>\n",
       "      <td>...</td>\n",
       "      <td>...</td>\n",
       "      <td>...</td>\n",
       "      <td>...</td>\n",
       "      <td>...</td>\n",
       "      <td>...</td>\n",
       "    </tr>\n",
       "    <tr>\n",
       "      <th>6452</th>\n",
       "      <td>negative</td>\n",
       "      <td>0.151</td>\n",
       "      <td>0.153</td>\n",
       "      <td>0.772</td>\n",
       "      <td>0.410</td>\n",
       "      <td>0.184</td>\n",
       "      <td>0.194</td>\n",
       "      <td>0.184</td>\n",
       "      <td>0.194</td>\n",
       "      <td>0.172</td>\n",
       "      <td>...</td>\n",
       "      <td>-0.005</td>\n",
       "      <td>0.000</td>\n",
       "      <td>0.413</td>\n",
       "      <td>0.260</td>\n",
       "      <td>-0.008</td>\n",
       "      <td>0.000</td>\n",
       "      <td>0.407</td>\n",
       "      <td>0.256</td>\n",
       "      <td>-0.010</td>\n",
       "      <td>0.000</td>\n",
       "    </tr>\n",
       "    <tr>\n",
       "      <th>6453</th>\n",
       "      <td>negative</td>\n",
       "      <td>0.151</td>\n",
       "      <td>0.153</td>\n",
       "      <td>0.752</td>\n",
       "      <td>0.356</td>\n",
       "      <td>0.182</td>\n",
       "      <td>0.200</td>\n",
       "      <td>0.183</td>\n",
       "      <td>0.200</td>\n",
       "      <td>0.170</td>\n",
       "      <td>...</td>\n",
       "      <td>-0.018</td>\n",
       "      <td>0.000</td>\n",
       "      <td>0.421</td>\n",
       "      <td>0.272</td>\n",
       "      <td>-0.020</td>\n",
       "      <td>0.000</td>\n",
       "      <td>0.417</td>\n",
       "      <td>0.268</td>\n",
       "      <td>-0.023</td>\n",
       "      <td>0.000</td>\n",
       "    </tr>\n",
       "    <tr>\n",
       "      <th>6454</th>\n",
       "      <td>negative</td>\n",
       "      <td>0.152</td>\n",
       "      <td>0.154</td>\n",
       "      <td>0.711</td>\n",
       "      <td>0.292</td>\n",
       "      <td>0.181</td>\n",
       "      <td>0.202</td>\n",
       "      <td>0.181</td>\n",
       "      <td>0.202</td>\n",
       "      <td>0.169</td>\n",
       "      <td>...</td>\n",
       "      <td>-0.032</td>\n",
       "      <td>0.000</td>\n",
       "      <td>0.427</td>\n",
       "      <td>0.287</td>\n",
       "      <td>-0.039</td>\n",
       "      <td>0.000</td>\n",
       "      <td>0.421</td>\n",
       "      <td>0.284</td>\n",
       "      <td>-0.045</td>\n",
       "      <td>0.000</td>\n",
       "    </tr>\n",
       "    <tr>\n",
       "      <th>6455</th>\n",
       "      <td>negative</td>\n",
       "      <td>0.152</td>\n",
       "      <td>0.153</td>\n",
       "      <td>0.697</td>\n",
       "      <td>0.221</td>\n",
       "      <td>0.181</td>\n",
       "      <td>0.202</td>\n",
       "      <td>0.181</td>\n",
       "      <td>0.202</td>\n",
       "      <td>0.168</td>\n",
       "      <td>...</td>\n",
       "      <td>-0.042</td>\n",
       "      <td>0.000</td>\n",
       "      <td>0.434</td>\n",
       "      <td>0.299</td>\n",
       "      <td>-0.047</td>\n",
       "      <td>0.000</td>\n",
       "      <td>0.427</td>\n",
       "      <td>0.298</td>\n",
       "      <td>-0.053</td>\n",
       "      <td>0.000</td>\n",
       "    </tr>\n",
       "    <tr>\n",
       "      <th>6456</th>\n",
       "      <td>negative</td>\n",
       "      <td>0.152</td>\n",
       "      <td>0.154</td>\n",
       "      <td>0.730</td>\n",
       "      <td>0.225</td>\n",
       "      <td>0.000</td>\n",
       "      <td>0.203</td>\n",
       "      <td>0.000</td>\n",
       "      <td>0.203</td>\n",
       "      <td>0.167</td>\n",
       "      <td>...</td>\n",
       "      <td>-0.026</td>\n",
       "      <td>0.000</td>\n",
       "      <td>0.413</td>\n",
       "      <td>0.345</td>\n",
       "      <td>-0.033</td>\n",
       "      <td>0.000</td>\n",
       "      <td>0.410</td>\n",
       "      <td>0.345</td>\n",
       "      <td>-0.038</td>\n",
       "      <td>0.000</td>\n",
       "    </tr>\n",
       "  </tbody>\n",
       "</table>\n",
       "<p>6457 rows × 2188 columns</p>\n",
       "</div>"
      ],
      "text/plain": [
       "         class  z_nose  z_nose_m10  head_posture_x  head_posture_y  z_wrist_l  \\\n",
       "0     handOver   0.168       0.170           0.597           0.490      0.190   \n",
       "1     handOver   0.161       0.161           0.487           0.383      0.181   \n",
       "2     handOver   0.158       0.161           0.519           0.379      0.178   \n",
       "3     handOver   0.155       0.157           0.531           0.431      0.186   \n",
       "4     handOver   0.153       0.154           0.550           0.423      0.000   \n",
       "...        ...     ...         ...             ...             ...        ...   \n",
       "6452  negative   0.151       0.153           0.772           0.410      0.184   \n",
       "6453  negative   0.151       0.153           0.752           0.356      0.182   \n",
       "6454  negative   0.152       0.154           0.711           0.292      0.181   \n",
       "6455  negative   0.152       0.153           0.697           0.221      0.181   \n",
       "6456  negative   0.152       0.154           0.730           0.225      0.000   \n",
       "\n",
       "      z_wrist_r  z_wrist_l_m10  z_wrist_r_m10  z_shoulder_l_m10  ...   z541  \\\n",
       "0         0.194          0.190          0.194             0.179  ... -0.030   \n",
       "1         0.189          0.181          0.188             0.171  ... -0.043   \n",
       "2         0.000          0.178          0.000             0.168  ...  0.000   \n",
       "3         0.180          0.185          0.180             0.166  ... -0.026   \n",
       "4         0.176          0.000          0.176             0.165  ... -0.024   \n",
       "...         ...            ...            ...               ...  ...    ...   \n",
       "6452      0.194          0.184          0.194             0.172  ... -0.005   \n",
       "6453      0.200          0.183          0.200             0.170  ... -0.018   \n",
       "6454      0.202          0.181          0.202             0.169  ... -0.032   \n",
       "6455      0.202          0.181          0.202             0.168  ... -0.042   \n",
       "6456      0.203          0.000          0.203             0.167  ... -0.026   \n",
       "\n",
       "      v541  x542  y542   z542  v542  x543  y543   z543  v543  \n",
       "0    0.000 0.519 0.409 -0.033 0.000 0.514 0.415 -0.036 0.000  \n",
       "1    0.000 0.506 0.384 -0.050 0.000 0.499 0.387 -0.055 0.000  \n",
       "2    0.000 0.000 0.000  0.000 0.000 0.000 0.000  0.000 0.000  \n",
       "3    0.000 0.477 0.387 -0.031 0.000 0.473 0.392 -0.036 0.000  \n",
       "4    0.000 0.476 0.385 -0.027 0.000 0.472 0.387 -0.030 0.000  \n",
       "...    ...   ...   ...    ...   ...   ...   ...    ...   ...  \n",
       "6452 0.000 0.413 0.260 -0.008 0.000 0.407 0.256 -0.010 0.000  \n",
       "6453 0.000 0.421 0.272 -0.020 0.000 0.417 0.268 -0.023 0.000  \n",
       "6454 0.000 0.427 0.287 -0.039 0.000 0.421 0.284 -0.045 0.000  \n",
       "6455 0.000 0.434 0.299 -0.047 0.000 0.427 0.298 -0.053 0.000  \n",
       "6456 0.000 0.413 0.345 -0.033 0.000 0.410 0.345 -0.038 0.000  \n",
       "\n",
       "[6457 rows x 2188 columns]"
      ]
     },
     "execution_count": 3,
     "metadata": {},
     "output_type": "execute_result"
    }
   ],
   "source": [
    "df"
   ]
  },
  {
   "cell_type": "code",
   "execution_count": 4,
   "metadata": {},
   "outputs": [],
   "source": [
    "# 0 -                                  Class\n",
    "# 1 - 8                                Berechnungen \n",
    "# 9 - 141         # 33 * 4 = 132       Pose            x1 - x33\n",
    "# 141 - 2013      # 468 * 4 = 1872     Face            x34 - x501\n",
    "# 2014 - 2097     # 21 * 4 = 84        rightHand       x502 - x522\n",
    "# 2098 - 2181     # 21 * 4 = 84        leftHand        x523 - x543\n",
    "\n",
    "# z_nose_mean10                                        Abstand zur person generell\n",
    "# nose_x_direcction                                    Blickrichtung\n",
    "# z_wrist_l_mean10                                     Abstand zur Hand\n",
    "# z_wrist_r_mean10                                     Abstand zur Hand\n",
    "\n",
    "# Schulter links (x, y)      11                        Damit Stellung des Arms erkannt wird\n",
    "# Schulter rechts (x, y)     12                         Damit Stellung des Arms erkannt wird\n",
    "# Ellenbogen links (x, y)    13                        Damit Stellung des Arms erkannt wird\n",
    "# Ellenbogen rechts (x, y)   14                        Damit Stellung des Arms erkannt wird\n",
    "\n",
    "# Handgelenk links  (x, y)   15\n",
    "# Handgelenk rechts (x, y)   16\n",
    "\n",
    "# 16 * 16 = 256   full\n",
    "# 9 * 16 = 144    nur eine seite\n"
   ]
  },
  {
   "cell_type": "code",
   "execution_count": 5,
   "metadata": {},
   "outputs": [
    {
     "data": {
      "image/png": "[encoded data removed]",
      "text/plain": [
       "<Figure size 432x288 with 1 Axes>"
      ]
     },
     "metadata": {
      "needs_background": "light"
     },
     "output_type": "display_data"
    }
   ],
   "source": [
    "head_posture_df = df.loc[:, [\"head_posture_x\", \"head_posture_y\"]]\n",
    "\n",
    "hist = head_posture_df.plot.hist()\n",
    "#hist = head_posture_df.plot.hist(color = \"#007162\")"
   ]
  },
  {
   "cell_type": "code",
   "execution_count": 6,
   "metadata": {},
   "outputs": [
    {
     "data": {
      "image/png": "[encoded data removed]",
      "text/plain": [
       "<Figure size 432x288 with 1 Axes>"
      ]
     },
     "metadata": {
      "needs_background": "light"
     },
     "output_type": "display_data"
    }
   ],
   "source": [
    "plot = head_posture_df.plot()\n",
    "#plot = head_posture_df.plot(color = \"#007162\")"
   ]
  },
  {
   "cell_type": "code",
   "execution_count": 7,
   "metadata": {},
   "outputs": [
    {
     "data": {
      "text/plain": [
       "head_posture_x   -0.039\n",
       "head_posture_y   -1.283\n",
       "dtype: float64"
      ]
     },
     "execution_count": 7,
     "metadata": {},
     "output_type": "execute_result"
    }
   ],
   "source": [
    "head_posture_df.min()"
   ]
  },
  {
   "cell_type": "code",
   "execution_count": 8,
   "metadata": {},
   "outputs": [
    {
     "data": {
      "text/plain": [
       "head_posture_x   1.009\n",
       "head_posture_y   2.383\n",
       "dtype: float64"
      ]
     },
     "execution_count": 8,
     "metadata": {},
     "output_type": "execute_result"
    }
   ],
   "source": [
    "head_posture_df.max()"
   ]
  },
  {
   "cell_type": "markdown",
   "metadata": {},
   "source": [
    "## Feature Engineering"
   ]
  },
  {
   "cell_type": "markdown",
   "metadata": {},
   "source": [
    "##### df muss in make_detection gleich sein!\n",
    "aber ohne \"class\""
   ]
  },
  {
   "cell_type": "code",
   "execution_count": 9,
   "metadata": {},
   "outputs": [
    {
     "data": {
      "text/html": [
       "<div>\n",
       "<style scoped>\n",
       "    .dataframe tbody tr th:only-of-type {\n",
       "        vertical-align: middle;\n",
       "    }\n",
       "\n",
       "    .dataframe tbody tr th {\n",
       "        vertical-align: top;\n",
       "    }\n",
       "\n",
       "    .dataframe thead th {\n",
       "        text-align: right;\n",
       "    }\n",
       "</style>\n",
       "<table border=\"1\" class=\"dataframe\">\n",
       "  <thead>\n",
       "    <tr style=\"text-align: right;\">\n",
       "      <th></th>\n",
       "      <th>class</th>\n",
       "      <th>z_nose_m10</th>\n",
       "      <th>head_posture_y</th>\n",
       "      <th>z_wrist_r_m10</th>\n",
       "      <th>z_shoulder_l_m10</th>\n",
       "      <th>z_elbow_r_m10</th>\n",
       "      <th>watchToRobot</th>\n",
       "      <th>shoulder_wrist</th>\n",
       "      <th>handHigh</th>\n",
       "      <th>handInnerSide</th>\n",
       "      <th>x11</th>\n",
       "      <th>y11</th>\n",
       "      <th>x14</th>\n",
       "      <th>y14</th>\n",
       "      <th>x16</th>\n",
       "      <th>y16</th>\n",
       "      <th>x502</th>\n",
       "      <th>y502</th>\n",
       "      <th>x514</th>\n",
       "      <th>y514</th>\n",
       "    </tr>\n",
       "  </thead>\n",
       "  <tbody>\n",
       "    <tr>\n",
       "      <th>0</th>\n",
       "      <td>handOver</td>\n",
       "      <td>0.170</td>\n",
       "      <td>0.490</td>\n",
       "      <td>0.194</td>\n",
       "      <td>0.179</td>\n",
       "      <td>0.214</td>\n",
       "      <td>1</td>\n",
       "      <td>0</td>\n",
       "      <td>0</td>\n",
       "      <td>0</td>\n",
       "      <td>0.761</td>\n",
       "      <td>0.478</td>\n",
       "      <td>0.579</td>\n",
       "      <td>0.679</td>\n",
       "      <td>0.532</td>\n",
       "      <td>0.523</td>\n",
       "      <td>0.563</td>\n",
       "      <td>0.422</td>\n",
       "      <td>0.512</td>\n",
       "      <td>0.423</td>\n",
       "    </tr>\n",
       "    <tr>\n",
       "      <th>1</th>\n",
       "      <td>handOver</td>\n",
       "      <td>0.161</td>\n",
       "      <td>0.383</td>\n",
       "      <td>0.188</td>\n",
       "      <td>0.171</td>\n",
       "      <td>0.209</td>\n",
       "      <td>1</td>\n",
       "      <td>0</td>\n",
       "      <td>0</td>\n",
       "      <td>0</td>\n",
       "      <td>0.741</td>\n",
       "      <td>0.471</td>\n",
       "      <td>0.546</td>\n",
       "      <td>0.659</td>\n",
       "      <td>0.519</td>\n",
       "      <td>0.501</td>\n",
       "      <td>0.541</td>\n",
       "      <td>0.409</td>\n",
       "      <td>0.503</td>\n",
       "      <td>0.393</td>\n",
       "    </tr>\n",
       "    <tr>\n",
       "      <th>2</th>\n",
       "      <td>handOver</td>\n",
       "      <td>0.161</td>\n",
       "      <td>0.379</td>\n",
       "      <td>0.000</td>\n",
       "      <td>0.168</td>\n",
       "      <td>0.205</td>\n",
       "      <td>1</td>\n",
       "      <td>0</td>\n",
       "      <td>0</td>\n",
       "      <td>0</td>\n",
       "      <td>0.736</td>\n",
       "      <td>0.475</td>\n",
       "      <td>0.540</td>\n",
       "      <td>0.659</td>\n",
       "      <td>0.516</td>\n",
       "      <td>0.503</td>\n",
       "      <td>0.000</td>\n",
       "      <td>0.000</td>\n",
       "      <td>0.000</td>\n",
       "      <td>0.000</td>\n",
       "    </tr>\n",
       "    <tr>\n",
       "      <th>3</th>\n",
       "      <td>handOver</td>\n",
       "      <td>0.157</td>\n",
       "      <td>0.431</td>\n",
       "      <td>0.180</td>\n",
       "      <td>0.166</td>\n",
       "      <td>0.200</td>\n",
       "      <td>1</td>\n",
       "      <td>0</td>\n",
       "      <td>0</td>\n",
       "      <td>0</td>\n",
       "      <td>0.726</td>\n",
       "      <td>0.475</td>\n",
       "      <td>0.537</td>\n",
       "      <td>0.670</td>\n",
       "      <td>0.506</td>\n",
       "      <td>0.512</td>\n",
       "      <td>0.503</td>\n",
       "      <td>0.382</td>\n",
       "      <td>0.465</td>\n",
       "      <td>0.391</td>\n",
       "    </tr>\n",
       "    <tr>\n",
       "      <th>4</th>\n",
       "      <td>handOver</td>\n",
       "      <td>0.154</td>\n",
       "      <td>0.423</td>\n",
       "      <td>0.176</td>\n",
       "      <td>0.165</td>\n",
       "      <td>0.197</td>\n",
       "      <td>1</td>\n",
       "      <td>0</td>\n",
       "      <td>0</td>\n",
       "      <td>1</td>\n",
       "      <td>0.718</td>\n",
       "      <td>0.489</td>\n",
       "      <td>0.530</td>\n",
       "      <td>0.694</td>\n",
       "      <td>0.498</td>\n",
       "      <td>0.522</td>\n",
       "      <td>0.501</td>\n",
       "      <td>0.385</td>\n",
       "      <td>0.463</td>\n",
       "      <td>0.379</td>\n",
       "    </tr>\n",
       "  </tbody>\n",
       "</table>\n",
       "</div>"
      ],
      "text/plain": [
       "      class  z_nose_m10  head_posture_y  z_wrist_r_m10  z_shoulder_l_m10  \\\n",
       "0  handOver       0.170           0.490          0.194             0.179   \n",
       "1  handOver       0.161           0.383          0.188             0.171   \n",
       "2  handOver       0.161           0.379          0.000             0.168   \n",
       "3  handOver       0.157           0.431          0.180             0.166   \n",
       "4  handOver       0.154           0.423          0.176             0.165   \n",
       "\n",
       "   z_elbow_r_m10  watchToRobot  shoulder_wrist  handHigh  handInnerSide   x11  \\\n",
       "0          0.214             1               0         0              0 0.761   \n",
       "1          0.209             1               0         0              0 0.741   \n",
       "2          0.205             1               0         0              0 0.736   \n",
       "3          0.200             1               0         0              0 0.726   \n",
       "4          0.197             1               0         0              1 0.718   \n",
       "\n",
       "    y11   x14   y14   x16   y16  x502  y502  x514  y514  \n",
       "0 0.478 0.579 0.679 0.532 0.523 0.563 0.422 0.512 0.423  \n",
       "1 0.471 0.546 0.659 0.519 0.501 0.541 0.409 0.503 0.393  \n",
       "2 0.475 0.540 0.659 0.516 0.503 0.000 0.000 0.000 0.000  \n",
       "3 0.475 0.537 0.670 0.506 0.512 0.503 0.382 0.465 0.391  \n",
       "4 0.489 0.530 0.694 0.498 0.522 0.501 0.385 0.463 0.379  "
      ]
     },
     "execution_count": 9,
     "metadata": {},
     "output_type": "execute_result"
    }
   ],
   "source": [
    "# rechte Hand Optimierung\n",
    "df = df.loc[:, [\"class\",\"z_nose_m10\",\"head_posture_y\",\"z_wrist_r_m10\", \"z_shoulder_l_m10\",'z_elbow_r_m10','watchToRobot','shoulder_wrist','handHigh', 'handInnerSide', \"x11\",\"y11\",\"x14\",\"y14\",\"x16\",\"y16\", 'x502', 'y502', 'x514', 'y514']]\n",
    "\n",
    "df.head()"
   ]
  },
  {
   "cell_type": "markdown",
   "metadata": {},
   "source": [
    "make class to numeric values\n",
    "\n",
    "highFive = 1    \n",
    "handOver = 2    \n",
    "negative = 0"
   ]
  },
  {
   "cell_type": "code",
   "execution_count": 10,
   "metadata": {},
   "outputs": [
    {
     "name": "stdout",
     "output_type": "stream",
     "text": [
      "HandOver #Rows: 856\n",
      "HighFive #Rows: 1263\n",
      "Negative #Rows: 4338\n"
     ]
    }
   ],
   "source": [
    "row = 0\n",
    "countHandOver = 0\n",
    "countHighFive = 0 \n",
    "countNegative = 0\n",
    "for val in df[\"class\"]:\n",
    "    if val == \"highFive\":\n",
    "        df.iloc[row, 0] = 1\n",
    "        countHighFive += 1\n",
    "    if val == \"handOver\":\n",
    "        df.iloc[row, 0] = 2\n",
    "        countHandOver += 1\n",
    "    if val == \"negative\":\n",
    "        df.iloc[row, 0] = 0\n",
    "        countNegative += 1\n",
    "    row +=1\n",
    "\n",
    "print(\"HandOver #Rows: \" + str(countHandOver))    \n",
    "print(\"HighFive #Rows: \" + str(countHighFive))\n",
    "print(\"Negative #Rows: \" + str(countNegative))\n"
   ]
  },
  {
   "cell_type": "markdown",
   "metadata": {},
   "source": [
    "Für jedes Feature rolling 4, 8, 12, 16\n",
    "\n",
    "#### Pro Feature *16 !"
   ]
  },
  {
   "cell_type": "markdown",
   "metadata": {},
   "source": [
    "##### no_rolling_features_arr muss in make_detection gleich sein!"
   ]
  },
  {
   "cell_type": "code",
   "execution_count": 11,
   "metadata": {},
   "outputs": [
    {
     "name": "stdout",
     "output_type": "stream",
     "text": [
      "Features with Rolling: \n",
      " \n",
      "z_wrist_r_m10\n",
      "z_shoulder_l_m10\n",
      "z_elbow_r_m10\n",
      "shoulder_wrist\n",
      "handHigh\n",
      "handInnerSide\n",
      "x11\n",
      "y11\n",
      "x14\n",
      "y14\n",
      "x16\n",
      "y16\n"
     ]
    }
   ],
   "source": [
    "no_rolling_features_arr = ['class', 'z_nose_m10', 'head_posture_y', 'watchToRobot', 'hiGesture', 'x502', 'y502', 'x514', 'y514']\n",
    "\n",
    "print(\"Features with Rolling: \")\n",
    "print(\" \")\n",
    "\n",
    "for col_name in df.columns:\n",
    "    if col_name not in no_rolling_features_arr:\n",
    "        #df[col_name + '_moving_avg_12'] = df[col_name].rolling(12).mean()\n",
    "        #df[col_name + '_moving_sum_12'] = df[col_name].rolling(12).sum()\n",
    "        #df[col_name + '_moving_var_12'] = df[col_name].rolling(12).var()\n",
    "        #df[col_name + '_moving_std_12'] = df[col_name].rolling(12).std()\n",
    "\n",
    "        df[col_name + '_moving_avg_8'] = df[col_name].rolling(8).mean()\n",
    "        df[col_name + '_moving_sum_8'] = df[col_name].rolling(8).sum()\n",
    "        df[col_name + '_moving_var_8'] = df[col_name].rolling(8).var()\n",
    "        df[col_name + '_moving_std_8'] = df[col_name].rolling(8).std()\n",
    "\n",
    "        #df[col_name + '_moving_avg_16'] = df[col_name].rolling(16).mean()\n",
    "        #df[col_name + '_moving_sum_16'] = df[col_name].rolling(16).sum()\n",
    "        #df[col_name + '_moving_var_16'] = df[col_name].rolling(16).var()\n",
    "        #df[col_name + '_moving_std_16'] = df[col_name].rolling(16).std()\n",
    "\n",
    "        df[col_name + '_moving_avg_4'] = df[col_name].rolling(4).mean()\n",
    "        df[col_name + '_moving_sum_4'] = df[col_name].rolling(4).sum()\n",
    "        df[col_name + '_moving_var_4'] = df[col_name].rolling(4).var()\n",
    "        df[col_name + '_moving_std_4'] = df[col_name].rolling(4).std()\n",
    "\n",
    "        print(col_name)"
   ]
  },
  {
   "cell_type": "code",
   "execution_count": 12,
   "metadata": {},
   "outputs": [
    {
     "data": {
      "text/html": [
       "<div>\n",
       "<style scoped>\n",
       "    .dataframe tbody tr th:only-of-type {\n",
       "        vertical-align: middle;\n",
       "    }\n",
       "\n",
       "    .dataframe tbody tr th {\n",
       "        vertical-align: top;\n",
       "    }\n",
       "\n",
       "    .dataframe thead th {\n",
       "        text-align: right;\n",
       "    }\n",
       "</style>\n",
       "<table border=\"1\" class=\"dataframe\">\n",
       "  <thead>\n",
       "    <tr style=\"text-align: right;\">\n",
       "      <th></th>\n",
       "      <th>class</th>\n",
       "      <th>z_nose_m10</th>\n",
       "      <th>head_posture_y</th>\n",
       "      <th>z_wrist_r_m10</th>\n",
       "      <th>z_shoulder_l_m10</th>\n",
       "      <th>z_elbow_r_m10</th>\n",
       "      <th>watchToRobot</th>\n",
       "      <th>shoulder_wrist</th>\n",
       "      <th>handHigh</th>\n",
       "      <th>handInnerSide</th>\n",
       "      <th>...</th>\n",
       "      <th>x16_moving_var_4</th>\n",
       "      <th>x16_moving_std_4</th>\n",
       "      <th>y16_moving_avg_8</th>\n",
       "      <th>y16_moving_sum_8</th>\n",
       "      <th>y16_moving_var_8</th>\n",
       "      <th>y16_moving_std_8</th>\n",
       "      <th>y16_moving_avg_4</th>\n",
       "      <th>y16_moving_sum_4</th>\n",
       "      <th>y16_moving_var_4</th>\n",
       "      <th>y16_moving_std_4</th>\n",
       "    </tr>\n",
       "  </thead>\n",
       "  <tbody>\n",
       "    <tr>\n",
       "      <th>7</th>\n",
       "      <td>2</td>\n",
       "      <td>0.146</td>\n",
       "      <td>0.542</td>\n",
       "      <td>0.161</td>\n",
       "      <td>0.162</td>\n",
       "      <td>0.179</td>\n",
       "      <td>1</td>\n",
       "      <td>0</td>\n",
       "      <td>0</td>\n",
       "      <td>0</td>\n",
       "      <td>...</td>\n",
       "      <td>0.000</td>\n",
       "      <td>0.015</td>\n",
       "      <td>0.543</td>\n",
       "      <td>4.348</td>\n",
       "      <td>0.003</td>\n",
       "      <td>0.051</td>\n",
       "      <td>0.577</td>\n",
       "      <td>2.308</td>\n",
       "      <td>0.003</td>\n",
       "      <td>0.055</td>\n",
       "    </tr>\n",
       "    <tr>\n",
       "      <th>8</th>\n",
       "      <td>2</td>\n",
       "      <td>0.144</td>\n",
       "      <td>0.550</td>\n",
       "      <td>0.160</td>\n",
       "      <td>0.162</td>\n",
       "      <td>0.174</td>\n",
       "      <td>1</td>\n",
       "      <td>0</td>\n",
       "      <td>0</td>\n",
       "      <td>0</td>\n",
       "      <td>...</td>\n",
       "      <td>0.000</td>\n",
       "      <td>0.016</td>\n",
       "      <td>0.564</td>\n",
       "      <td>4.512</td>\n",
       "      <td>0.005</td>\n",
       "      <td>0.071</td>\n",
       "      <td>0.618</td>\n",
       "      <td>2.473</td>\n",
       "      <td>0.004</td>\n",
       "      <td>0.062</td>\n",
       "    </tr>\n",
       "    <tr>\n",
       "      <th>9</th>\n",
       "      <td>2</td>\n",
       "      <td>0.142</td>\n",
       "      <td>0.585</td>\n",
       "      <td>0.146</td>\n",
       "      <td>0.162</td>\n",
       "      <td>0.165</td>\n",
       "      <td>1</td>\n",
       "      <td>0</td>\n",
       "      <td>0</td>\n",
       "      <td>1</td>\n",
       "      <td>...</td>\n",
       "      <td>0.000</td>\n",
       "      <td>0.015</td>\n",
       "      <td>0.596</td>\n",
       "      <td>4.769</td>\n",
       "      <td>0.009</td>\n",
       "      <td>0.093</td>\n",
       "      <td>0.671</td>\n",
       "      <td>2.685</td>\n",
       "      <td>0.005</td>\n",
       "      <td>0.070</td>\n",
       "    </tr>\n",
       "    <tr>\n",
       "      <th>10</th>\n",
       "      <td>2</td>\n",
       "      <td>0.141</td>\n",
       "      <td>0.608</td>\n",
       "      <td>0.000</td>\n",
       "      <td>0.162</td>\n",
       "      <td>0.162</td>\n",
       "      <td>1</td>\n",
       "      <td>0</td>\n",
       "      <td>0</td>\n",
       "      <td>1</td>\n",
       "      <td>...</td>\n",
       "      <td>0.000</td>\n",
       "      <td>0.007</td>\n",
       "      <td>0.631</td>\n",
       "      <td>5.048</td>\n",
       "      <td>0.011</td>\n",
       "      <td>0.105</td>\n",
       "      <td>0.719</td>\n",
       "      <td>2.876</td>\n",
       "      <td>0.004</td>\n",
       "      <td>0.063</td>\n",
       "    </tr>\n",
       "    <tr>\n",
       "      <th>11</th>\n",
       "      <td>2</td>\n",
       "      <td>0.140</td>\n",
       "      <td>0.640</td>\n",
       "      <td>0.129</td>\n",
       "      <td>0.161</td>\n",
       "      <td>0.154</td>\n",
       "      <td>1</td>\n",
       "      <td>0</td>\n",
       "      <td>0</td>\n",
       "      <td>1</td>\n",
       "      <td>...</td>\n",
       "      <td>0.000</td>\n",
       "      <td>0.003</td>\n",
       "      <td>0.669</td>\n",
       "      <td>5.352</td>\n",
       "      <td>0.012</td>\n",
       "      <td>0.111</td>\n",
       "      <td>0.761</td>\n",
       "      <td>3.044</td>\n",
       "      <td>0.003</td>\n",
       "      <td>0.055</td>\n",
       "    </tr>\n",
       "  </tbody>\n",
       "</table>\n",
       "<p>5 rows × 116 columns</p>\n",
       "</div>"
      ],
      "text/plain": [
       "   class  z_nose_m10  head_posture_y  z_wrist_r_m10  z_shoulder_l_m10  \\\n",
       "7      2       0.146           0.542          0.161             0.162   \n",
       "8      2       0.144           0.550          0.160             0.162   \n",
       "9      2       0.142           0.585          0.146             0.162   \n",
       "10     2       0.141           0.608          0.000             0.162   \n",
       "11     2       0.140           0.640          0.129             0.161   \n",
       "\n",
       "    z_elbow_r_m10  watchToRobot  shoulder_wrist  handHigh  handInnerSide  ...  \\\n",
       "7           0.179             1               0         0              0  ...   \n",
       "8           0.174             1               0         0              0  ...   \n",
       "9           0.165             1               0         0              1  ...   \n",
       "10          0.162             1               0         0              1  ...   \n",
       "11          0.154             1               0         0              1  ...   \n",
       "\n",
       "    x16_moving_var_4  x16_moving_std_4  y16_moving_avg_8  y16_moving_sum_8  \\\n",
       "7              0.000             0.015             0.543             4.348   \n",
       "8              0.000             0.016             0.564             4.512   \n",
       "9              0.000             0.015             0.596             4.769   \n",
       "10             0.000             0.007             0.631             5.048   \n",
       "11             0.000             0.003             0.669             5.352   \n",
       "\n",
       "    y16_moving_var_8  y16_moving_std_8  y16_moving_avg_4  y16_moving_sum_4  \\\n",
       "7              0.003             0.051             0.577             2.308   \n",
       "8              0.005             0.071             0.618             2.473   \n",
       "9              0.009             0.093             0.671             2.685   \n",
       "10             0.011             0.105             0.719             2.876   \n",
       "11             0.012             0.111             0.761             3.044   \n",
       "\n",
       "    y16_moving_var_4  y16_moving_std_4  \n",
       "7              0.003             0.055  \n",
       "8              0.004             0.062  \n",
       "9              0.005             0.070  \n",
       "10             0.004             0.063  \n",
       "11             0.003             0.055  \n",
       "\n",
       "[5 rows x 116 columns]"
      ]
     },
     "execution_count": 12,
     "metadata": {},
     "output_type": "execute_result"
    }
   ],
   "source": [
    "# Drop rows with NaN values \n",
    "df = df.dropna()\n",
    "#df = df.reset_index()\n",
    "df.head()"
   ]
  },
  {
   "cell_type": "code",
   "execution_count": 13,
   "metadata": {},
   "outputs": [],
   "source": [
    "#df.describe()"
   ]
  },
  {
   "cell_type": "code",
   "execution_count": null,
   "metadata": {},
   "outputs": [],
   "source": []
  },
  {
   "cell_type": "markdown",
   "metadata": {},
   "source": [
    "## Train classifier"
   ]
  },
  {
   "cell_type": "code",
   "execution_count": 14,
   "metadata": {},
   "outputs": [],
   "source": [
    "import pandas as pd\n",
    "from sklearn.model_selection import train_test_split"
   ]
  },
  {
   "cell_type": "code",
   "execution_count": 15,
   "metadata": {},
   "outputs": [],
   "source": [
    "X = df.drop('class', axis=1) # features\n",
    "y = df['class'] # target value"
   ]
  },
  {
   "cell_type": "code",
   "execution_count": 16,
   "metadata": {},
   "outputs": [],
   "source": [
    "X_train, X_test, y_train, y_test = train_test_split(X, y, test_size=0.3, random_state=42)"
   ]
  },
  {
   "cell_type": "code",
   "execution_count": 17,
   "metadata": {},
   "outputs": [],
   "source": [
    "y_test=y_test.astype('int')\n",
    "y_train=y_train.astype('int')"
   ]
  },
  {
   "cell_type": "code",
   "execution_count": 18,
   "metadata": {},
   "outputs": [],
   "source": [
    "#y_test"
   ]
  },
  {
   "cell_type": "code",
   "execution_count": 19,
   "metadata": {},
   "outputs": [],
   "source": [
    "#df[df['shoulder_wrist']==1] #highFive"
   ]
  },
  {
   "cell_type": "code",
   "execution_count": 20,
   "metadata": {},
   "outputs": [],
   "source": [
    "from sklearn.pipeline import make_pipeline \n",
    "from sklearn.preprocessing import StandardScaler \n",
    "\n",
    "from sklearn.linear_model import LogisticRegression, RidgeClassifier\n",
    "from sklearn.ensemble import RandomForestClassifier, GradientBoostingClassifier\n",
    "from xgboost import XGBClassifier\n",
    "from sklearn.neural_network import MLPClassifier\n"
   ]
  },
  {
   "cell_type": "code",
   "execution_count": 21,
   "metadata": {},
   "outputs": [],
   "source": [
    "pipelines = {\n",
    "    'lr':make_pipeline(StandardScaler(), LogisticRegression(max_iter=1000)),\n",
    "    'rc':make_pipeline(StandardScaler(), RidgeClassifier()),\n",
    "    'rf':make_pipeline(StandardScaler(), RandomForestClassifier()),\n",
    "    'rf_max':make_pipeline(StandardScaler(), RandomForestClassifier(max_depth=10)),\n",
    "    'gb':make_pipeline(StandardScaler(), GradientBoostingClassifier()),\n",
    "    'xgb':make_pipeline(StandardScaler(), XGBClassifier(objective='reg:logistic')),\n",
    "    'xgb15':make_pipeline(StandardScaler(), XGBClassifier(max_depth=10)),\n",
    "    'nn0':make_pipeline(StandardScaler(), MLPClassifier()),\n",
    "    'nn':make_pipeline(StandardScaler(), MLPClassifier(solver='lbfgs', \n",
    "                                                       alpha=1e-5, \n",
    "                                                       hidden_layer_sizes=(15,), \n",
    "                                                       random_state=1)),\n",
    "} "
   ]
  },
  {
   "cell_type": "markdown",
   "metadata": {},
   "source": [
    "#### Training starten\n",
    "\n",
    "Ergebnis wird in fit_models gespeichert"
   ]
  },
  {
   "cell_type": "code",
   "execution_count": 22,
   "metadata": {},
   "outputs": [
    {
     "name": "stderr",
     "output_type": "stream",
     "text": [
      "/home/benny/mediapipeVennv/lib/python3.6/site-packages/xgboost/sklearn.py:1224: UserWarning: The use of label encoder in XGBClassifier is deprecated and will be removed in a future release. To remove this warning, do the following: 1) Pass option use_label_encoder=False when constructing XGBClassifier object; and 2) Encode your labels (y) as integers starting with 0, i.e. 0, 1, 2, ..., [num_class - 1].\n",
      "  warnings.warn(label_encoder_deprecation_msg, UserWarning)\n"
     ]
    },
    {
     "name": "stdout",
     "output_type": "stream",
     "text": [
      "[19:12:40] WARNING: ../src/learner.cc:1115: Starting in XGBoost 1.3.0, the default evaluation metric used with the objective 'multi:softprob' was changed from 'merror' to 'mlogloss'. Explicitly set eval_metric if you'd like to restore the old behavior.\n"
     ]
    },
    {
     "name": "stderr",
     "output_type": "stream",
     "text": [
      "/home/benny/mediapipeVennv/lib/python3.6/site-packages/xgboost/sklearn.py:1224: UserWarning: The use of label encoder in XGBClassifier is deprecated and will be removed in a future release. To remove this warning, do the following: 1) Pass option use_label_encoder=False when constructing XGBClassifier object; and 2) Encode your labels (y) as integers starting with 0, i.e. 0, 1, 2, ..., [num_class - 1].\n",
      "  warnings.warn(label_encoder_deprecation_msg, UserWarning)\n"
     ]
    },
    {
     "name": "stdout",
     "output_type": "stream",
     "text": [
      "[19:12:44] WARNING: ../src/learner.cc:1115: Starting in XGBoost 1.3.0, the default evaluation metric used with the objective 'multi:softprob' was changed from 'merror' to 'mlogloss'. Explicitly set eval_metric if you'd like to restore the old behavior.\n",
      "Runtime of the program is 61.15920424461365\n"
     ]
    }
   ],
   "source": [
    "start = time.time()\n",
    "\n",
    "fit_models = {}\n",
    "for algo, pipeline in pipelines.items():\n",
    "    model = pipeline.fit(X_train, y_train)\n",
    "    fit_models[algo] = model\n",
    "\n",
    "end = time.time()\n",
    "print(f\"Runtime of the program is {end - start}\")"
   ]
  },
  {
   "cell_type": "code",
   "execution_count": 23,
   "metadata": {
    "scrolled": false
   },
   "outputs": [],
   "source": [
    "#fit_models"
   ]
  },
  {
   "cell_type": "code",
   "execution_count": 24,
   "metadata": {
    "scrolled": true
   },
   "outputs": [],
   "source": [
    "#fit_models['nn'].predict(X_test)"
   ]
  },
  {
   "cell_type": "code",
   "execution_count": null,
   "metadata": {},
   "outputs": [],
   "source": []
  },
  {
   "cell_type": "markdown",
   "metadata": {},
   "source": [
    "## Evaluate and Serialize Model "
   ]
  },
  {
   "cell_type": "code",
   "execution_count": 25,
   "metadata": {},
   "outputs": [],
   "source": [
    "from sklearn.metrics import accuracy_score, f1_score, precision_score, recall_score # Accuracy metrics \n",
    "from sklearn.metrics import confusion_matrix\n",
    "from sklearn.metrics import classification_report\n",
    "import pickle \n",
    "from sklearn.metrics import ConfusionMatrixDisplay\n",
    "from xgboost import plot_tree"
   ]
  },
  {
   "cell_type": "code",
   "execution_count": 26,
   "metadata": {},
   "outputs": [
    {
     "name": "stdout",
     "output_type": "stream",
     "text": [
      "        accuracy           precision            recall              f1\n",
      "lr 0.9328165374677002 0.9234427276419948 0.9072835221044939 0.9148155159156409\n",
      "rc 0.9162790697674419 0.9111902044774527 0.8715200746965452 0.8898626215719473\n",
      "rf 0.9819121447028424 0.987077892046277 0.9664464539438965 0.9764352089888306\n",
      "rf_max 0.979328165374677 0.9864334583534053 0.9623386108066415 0.9738999024757694\n",
      "gb 0.9736434108527132 0.9762790582248674 0.9575584378679008 0.9666434951743788\n",
      "xgb 0.9917312661498708 0.9946112138272015 0.9837150570373078 0.9890667823983662\n",
      "xgb15 0.9901808785529715 0.9944890568414423 0.9813849916778304 0.9878069940188192\n",
      "nn0 0.9855297157622739 0.9809204065741465 0.9797290017456257 0.9803052910719114\n",
      "nn 0.9751937984496124 0.9689963511262318 0.966275626192506 0.9675774546884467\n"
     ]
    }
   ],
   "source": [
    "print(\"        accuracy           precision            recall              f1\")\n",
    "for algo, model in fit_models.items():\n",
    "    y_pred = model.predict(X_test)\n",
    "    print(algo, accuracy_score(y_test, y_pred), precision_score(y_test, y_pred, average='macro'), recall_score(y_test, y_pred, average='macro'), f1_score(y_test, y_pred, average='macro'))\n"
   ]
  },
  {
   "cell_type": "code",
   "execution_count": 27,
   "metadata": {},
   "outputs": [],
   "source": [
    "#print(\"0: negative\")\n",
    "#print(\"1: highFive\")\n",
    "#print(\"2: handOver\")\n",
    "#print(\" \")\n",
    "\n",
    "#for algo, model in fit_models.items():\n",
    "#    y_pred = model.predict(X_test)\n",
    "#    print(algo, end= \" \")\n",
    "#    print(classification_report(y_test, y_pred))"
   ]
  },
  {
   "cell_type": "markdown",
   "metadata": {},
   "source": [
    "##### Eigene Kosten dazu berechnen"
   ]
  },
  {
   "cell_type": "code",
   "execution_count": 28,
   "metadata": {},
   "outputs": [
    {
     "name": "stdout",
     "output_type": "stream",
     "text": [
      "lr\n",
      "[[1240   28   20]\n",
      " [  57  315    3]\n",
      " [  20    2  250]] costs: 283\n",
      " \n",
      "rc\n",
      "[[1242   28   18]\n",
      " [  73  299    3]\n",
      " [  33    7  232]] costs: 309\n",
      " \n",
      "rf\n",
      "[[1286    2    0]\n",
      " [  22  353    0]\n",
      " [   7    4  261]] costs: 41\n",
      " \n",
      "rf_max\n",
      "[[1286    2    0]\n",
      " [  28  347    0]\n",
      " [   7    3  262]] costs: 46\n",
      " \n",
      "gb\n",
      "[[1277    9    2]\n",
      " [  28  347    0]\n",
      " [   8    4  260]] costs: 84\n",
      " \n",
      "xgb\n",
      "[[1287    1    0]\n",
      " [   7  368    0]\n",
      " [   7    1  264]] costs: 19\n",
      " \n",
      "xgb15\n",
      "[[1287    1    0]\n",
      " [  11  364    0]\n",
      " [   7    0  265]] costs: 22\n",
      " \n",
      "nn0\n",
      "[[1278    4    6]\n",
      " [  12  362    1]\n",
      " [   1    4  267]] costs: 61\n",
      " \n",
      "nn\n",
      "[[1269    8   11]\n",
      " [  19  355    1]\n",
      " [   6    3  263]] costs: 108\n",
      " \n"
     ]
    },
    {
     "data": {
      "image/png": "[encoded data removed]",
      "text/plain": [
       "<Figure size 432x288 with 2 Axes>"
      ]
     },
     "metadata": {
      "needs_background": "light"
     },
     "output_type": "display_data"
    },
    {
     "data": {
      "image/png": "[encoded data removed]",
      "text/plain": [
       "<Figure size 432x288 with 2 Axes>"
      ]
     },
     "metadata": {
      "needs_background": "light"
     },
     "output_type": "display_data"
    },
    {
     "data": {
      "image/png": "[encoded data removed]",
      "text/plain": [
       "<Figure size 432x288 with 2 Axes>"
      ]
     },
     "metadata": {
      "needs_background": "light"
     },
     "output_type": "display_data"
    },
    {
     "data": {
      "image/png": "[encoded data removed]",
      "text/plain": [
       "<Figure size 432x288 with 2 Axes>"
      ]
     },
     "metadata": {
      "needs_background": "light"
     },
     "output_type": "display_data"
    },
    {
     "data": {
      "image/png": "[encoded data removed]",
      "text/plain": [
       "<Figure size 432x288 with 2 Axes>"
      ]
     },
     "metadata": {
      "needs_background": "light"
     },
     "output_type": "display_data"
    },
    {
     "data": {
      "image/png": "[encoded data removed]",
      "text/plain": [
       "<Figure size 432x288 with 2 Axes>"
      ]
     },
     "metadata": {
      "needs_background": "light"
     },
     "output_type": "display_data"
    },
    {
     "data": {
      "image/png": "[encoded data removed]",
      "text/plain": [
       "<Figure size 432x288 with 2 Axes>"
      ]
     },
     "metadata": {
      "needs_background": "light"
     },
     "output_type": "display_data"
    },
    {
     "data": {
      "image/png": "[encoded data removed]",
      "text/plain": [
       "<Figure size 432x288 with 2 Axes>"
      ]
     },
     "metadata": {
      "needs_background": "light"
     },
     "output_type": "display_data"
    },
    {
     "data": {
      "image/png": "[encoded data removed]",
      "text/plain": [
       "<Figure size 432x288 with 2 Axes>"
      ]
     },
     "metadata": {
      "needs_background": "light"
     },
     "output_type": "display_data"
    }
   ],
   "source": [
    "costs = [[0, 4, 4], \n",
    "        [1, 0, 4],\n",
    "        [1, 1, 0]]\n",
    "\n",
    "for algo, model in fit_models.items():\n",
    "    y_pred = model.predict(X_test)\n",
    "    cm = confusion_matrix(y_test, y_pred)\n",
    "    disp = ConfusionMatrixDisplay(cm)\n",
    "    \n",
    "    cmWithCosts = cm*costs\n",
    "    print(algo)\n",
    "    print(cm , end =\" \")\n",
    "    disp.plot()\n",
    "    print(\"costs: \" + str(sum(sum(cmWithCosts))))\n",
    "    print(\" \")\n"
   ]
  },
  {
   "cell_type": "markdown",
   "metadata": {},
   "source": [
    "#### Plot XGBoost Tree"
   ]
  },
  {
   "cell_type": "code",
   "execution_count": 29,
   "metadata": {},
   "outputs": [
    {
     "data": {
      "image/png": "[encoded data removed]",
      "text/plain": [
       "<Figure size 432x288 with 1 Axes>"
      ]
     },
     "metadata": {
      "needs_background": "light"
     },
     "output_type": "display_data"
    }
   ],
   "source": [
    "for algo, model in fit_models.items():\n",
    "    if algo == \"xgb\":\n",
    "        model = model.steps[1][1]\n",
    "\n",
    "        #model = fit_models['xgb']\n",
    "        plot_tree(model)\n",
    "        plt.show()\n",
    "        #plt.savefig('xgboost.png')"
   ]
  },
  {
   "cell_type": "code",
   "execution_count": 30,
   "metadata": {},
   "outputs": [
    {
     "data": {
      "text/plain": [
       "[('z_elbow_r_m10', 0.09591254),\n",
       " ('handHigh_moving_avg_8', 0.08432229),\n",
       " ('y16_moving_avg_8', 0.06728863),\n",
       " ('x16_moving_avg_8', 0.051072787),\n",
       " ('y11_moving_avg_8', 0.042621315),\n",
       " ('handHigh', 0.040758725),\n",
       " ('handInnerSide_moving_avg_8', 0.03404233),\n",
       " ('head_posture_y', 0.032410584),\n",
       " ('x16_moving_avg_4', 0.032353494),\n",
       " ('z_shoulder_l_m10_moving_avg_8', 0.032127734),\n",
       " ('z_wrist_r_m10', 0.031971682),\n",
       " ('x514', 0.029159287),\n",
       " ('y514', 0.0277256),\n",
       " ('z_shoulder_l_m10_moving_avg_4', 0.024989147),\n",
       " ('x14', 0.024738628),\n",
       " ('y502', 0.018109122),\n",
       " ('y14_moving_avg_8', 0.016758833),\n",
       " ('y11_moving_var_8', 0.016134702),\n",
       " ('x11', 0.0148862),\n",
       " ('x14_moving_avg_8', 0.013644389),\n",
       " ('x502', 0.013595171),\n",
       " ('z_wrist_r_m10_moving_avg_8', 0.012384581),\n",
       " ('z_shoulder_l_m10', 0.01187183),\n",
       " ('x11_moving_avg_8', 0.011716539),\n",
       " ('x16', 0.01162348),\n",
       " ('y11', 0.01084719),\n",
       " ('x11_moving_avg_4', 0.010725174),\n",
       " ('z_nose_m10', 0.010365233)]"
      ]
     },
     "execution_count": 30,
     "metadata": {},
     "output_type": "execute_result"
    }
   ],
   "source": [
    "listWithFeatureNames = []\n",
    "for col in X.columns:\n",
    "    listWithFeatureNames.append(col)\n",
    "\n",
    "for algo, model in fit_models.items():\n",
    "    if algo == \"xgb\":\n",
    "        model = model.steps[1][1]\n",
    "\n",
    "        limit = 0.01\n",
    "\n",
    "        final_feature_list = []\n",
    "        final_feature_dict = {}\n",
    "\n",
    "        # summarize feature importance\n",
    "        for i,v in enumerate(model.feature_importances_):\n",
    "            #print('Feature: %0d, Score: %.5f' % (i,v))\n",
    "            if v >= limit:\n",
    "                final_feature_list.append(i)\n",
    "                featureName = listWithFeatureNames[1]\n",
    "                #print('Feature: ' + listWithFeatureNames[i] + ', Score: %.5f' % (v))\n",
    "                final_feature_dict[listWithFeatureNames[i]] = v\n",
    "\n",
    "final_feature_dict = sorted(final_feature_dict.items(), key=lambda x: x[1], reverse=True)\n",
    "final_feature_dict"
   ]
  },
  {
   "cell_type": "code",
   "execution_count": null,
   "metadata": {},
   "outputs": [],
   "source": []
  },
  {
   "cell_type": "markdown",
   "metadata": {},
   "source": [
    "## Evaluate with unseen data"
   ]
  },
  {
   "cell_type": "code",
   "execution_count": 31,
   "metadata": {},
   "outputs": [],
   "source": [
    "name = \"data/2021-12-21_intention-recognition_evaluation\"    # all data\n",
    "#name = \"data/2022-01-14_intention-recognition_evaluation\"    # all data\n",
    "\n",
    "df = pd.read_csv(name + \".csv\")"
   ]
  },
  {
   "cell_type": "code",
   "execution_count": 32,
   "metadata": {},
   "outputs": [
    {
     "data": {
      "text/html": [
       "<div>\n",
       "<style scoped>\n",
       "    .dataframe tbody tr th:only-of-type {\n",
       "        vertical-align: middle;\n",
       "    }\n",
       "\n",
       "    .dataframe tbody tr th {\n",
       "        vertical-align: top;\n",
       "    }\n",
       "\n",
       "    .dataframe thead th {\n",
       "        text-align: right;\n",
       "    }\n",
       "</style>\n",
       "<table border=\"1\" class=\"dataframe\">\n",
       "  <thead>\n",
       "    <tr style=\"text-align: right;\">\n",
       "      <th></th>\n",
       "      <th>class</th>\n",
       "      <th>z_nose</th>\n",
       "      <th>z_nose_m10</th>\n",
       "      <th>head_posture_x</th>\n",
       "      <th>head_posture_y</th>\n",
       "      <th>z_wrist_l</th>\n",
       "      <th>z_wrist_r</th>\n",
       "      <th>z_wrist_l_m10</th>\n",
       "      <th>z_wrist_r_m10</th>\n",
       "      <th>z_shoulder_l_m10</th>\n",
       "      <th>...</th>\n",
       "      <th>z541</th>\n",
       "      <th>v541</th>\n",
       "      <th>x542</th>\n",
       "      <th>y542</th>\n",
       "      <th>z542</th>\n",
       "      <th>v542</th>\n",
       "      <th>x543</th>\n",
       "      <th>y543</th>\n",
       "      <th>z543</th>\n",
       "      <th>v543</th>\n",
       "    </tr>\n",
       "  </thead>\n",
       "  <tbody>\n",
       "    <tr>\n",
       "      <th>0</th>\n",
       "      <td>negative</td>\n",
       "      <td>0</td>\n",
       "      <td>0.160</td>\n",
       "      <td>0.564</td>\n",
       "      <td>0.344</td>\n",
       "      <td>0</td>\n",
       "      <td>0</td>\n",
       "      <td>0.192</td>\n",
       "      <td>0.170</td>\n",
       "      <td>0.184</td>\n",
       "      <td>...</td>\n",
       "      <td>-0.020</td>\n",
       "      <td>0.000</td>\n",
       "      <td>0.266</td>\n",
       "      <td>0.304</td>\n",
       "      <td>-0.021</td>\n",
       "      <td>0.000</td>\n",
       "      <td>0.259</td>\n",
       "      <td>0.311</td>\n",
       "      <td>-0.019</td>\n",
       "      <td>0.000</td>\n",
       "    </tr>\n",
       "    <tr>\n",
       "      <th>1</th>\n",
       "      <td>negative</td>\n",
       "      <td>0</td>\n",
       "      <td>0.159</td>\n",
       "      <td>0.564</td>\n",
       "      <td>0.325</td>\n",
       "      <td>0</td>\n",
       "      <td>0</td>\n",
       "      <td>0.193</td>\n",
       "      <td>0.170</td>\n",
       "      <td>0.182</td>\n",
       "      <td>...</td>\n",
       "      <td>-0.037</td>\n",
       "      <td>0.000</td>\n",
       "      <td>0.292</td>\n",
       "      <td>0.336</td>\n",
       "      <td>-0.031</td>\n",
       "      <td>0.000</td>\n",
       "      <td>0.291</td>\n",
       "      <td>0.341</td>\n",
       "      <td>-0.026</td>\n",
       "      <td>0.000</td>\n",
       "    </tr>\n",
       "    <tr>\n",
       "      <th>2</th>\n",
       "      <td>negative</td>\n",
       "      <td>0</td>\n",
       "      <td>0.158</td>\n",
       "      <td>0.606</td>\n",
       "      <td>0.298</td>\n",
       "      <td>0</td>\n",
       "      <td>0</td>\n",
       "      <td>0.198</td>\n",
       "      <td>0.166</td>\n",
       "      <td>0.178</td>\n",
       "      <td>...</td>\n",
       "      <td>-0.047</td>\n",
       "      <td>0.000</td>\n",
       "      <td>0.338</td>\n",
       "      <td>0.360</td>\n",
       "      <td>-0.035</td>\n",
       "      <td>0.000</td>\n",
       "      <td>0.342</td>\n",
       "      <td>0.352</td>\n",
       "      <td>-0.028</td>\n",
       "      <td>0.000</td>\n",
       "    </tr>\n",
       "    <tr>\n",
       "      <th>3</th>\n",
       "      <td>negative</td>\n",
       "      <td>0</td>\n",
       "      <td>0.157</td>\n",
       "      <td>0.591</td>\n",
       "      <td>0.275</td>\n",
       "      <td>0</td>\n",
       "      <td>0</td>\n",
       "      <td>0.207</td>\n",
       "      <td>0.165</td>\n",
       "      <td>0.181</td>\n",
       "      <td>...</td>\n",
       "      <td>-0.037</td>\n",
       "      <td>0.000</td>\n",
       "      <td>0.385</td>\n",
       "      <td>0.376</td>\n",
       "      <td>-0.028</td>\n",
       "      <td>0.000</td>\n",
       "      <td>0.388</td>\n",
       "      <td>0.366</td>\n",
       "      <td>-0.024</td>\n",
       "      <td>0.000</td>\n",
       "    </tr>\n",
       "    <tr>\n",
       "      <th>4</th>\n",
       "      <td>negative</td>\n",
       "      <td>0</td>\n",
       "      <td>0.157</td>\n",
       "      <td>0.559</td>\n",
       "      <td>0.279</td>\n",
       "      <td>0</td>\n",
       "      <td>0</td>\n",
       "      <td>0.215</td>\n",
       "      <td>0.164</td>\n",
       "      <td>0.182</td>\n",
       "      <td>...</td>\n",
       "      <td>-0.031</td>\n",
       "      <td>0.000</td>\n",
       "      <td>0.428</td>\n",
       "      <td>0.379</td>\n",
       "      <td>-0.026</td>\n",
       "      <td>0.000</td>\n",
       "      <td>0.430</td>\n",
       "      <td>0.369</td>\n",
       "      <td>-0.025</td>\n",
       "      <td>0.000</td>\n",
       "    </tr>\n",
       "  </tbody>\n",
       "</table>\n",
       "<p>5 rows × 2188 columns</p>\n",
       "</div>"
      ],
      "text/plain": [
       "      class  z_nose  z_nose_m10  head_posture_x  head_posture_y  z_wrist_l  \\\n",
       "0  negative       0       0.160           0.564           0.344          0   \n",
       "1  negative       0       0.159           0.564           0.325          0   \n",
       "2  negative       0       0.158           0.606           0.298          0   \n",
       "3  negative       0       0.157           0.591           0.275          0   \n",
       "4  negative       0       0.157           0.559           0.279          0   \n",
       "\n",
       "   z_wrist_r  z_wrist_l_m10  z_wrist_r_m10  z_shoulder_l_m10  ...   z541  \\\n",
       "0          0          0.192          0.170             0.184  ... -0.020   \n",
       "1          0          0.193          0.170             0.182  ... -0.037   \n",
       "2          0          0.198          0.166             0.178  ... -0.047   \n",
       "3          0          0.207          0.165             0.181  ... -0.037   \n",
       "4          0          0.215          0.164             0.182  ... -0.031   \n",
       "\n",
       "   v541  x542  y542   z542  v542  x543  y543   z543  v543  \n",
       "0 0.000 0.266 0.304 -0.021 0.000 0.259 0.311 -0.019 0.000  \n",
       "1 0.000 0.292 0.336 -0.031 0.000 0.291 0.341 -0.026 0.000  \n",
       "2 0.000 0.338 0.360 -0.035 0.000 0.342 0.352 -0.028 0.000  \n",
       "3 0.000 0.385 0.376 -0.028 0.000 0.388 0.366 -0.024 0.000  \n",
       "4 0.000 0.428 0.379 -0.026 0.000 0.430 0.369 -0.025 0.000  \n",
       "\n",
       "[5 rows x 2188 columns]"
      ]
     },
     "execution_count": 32,
     "metadata": {},
     "output_type": "execute_result"
    }
   ],
   "source": [
    "df.head()"
   ]
  },
  {
   "cell_type": "code",
   "execution_count": 33,
   "metadata": {},
   "outputs": [
    {
     "data": {
      "text/html": [
       "<div>\n",
       "<style scoped>\n",
       "    .dataframe tbody tr th:only-of-type {\n",
       "        vertical-align: middle;\n",
       "    }\n",
       "\n",
       "    .dataframe tbody tr th {\n",
       "        vertical-align: top;\n",
       "    }\n",
       "\n",
       "    .dataframe thead th {\n",
       "        text-align: right;\n",
       "    }\n",
       "</style>\n",
       "<table border=\"1\" class=\"dataframe\">\n",
       "  <thead>\n",
       "    <tr style=\"text-align: right;\">\n",
       "      <th></th>\n",
       "      <th>class</th>\n",
       "      <th>z_nose_m10</th>\n",
       "      <th>head_posture_y</th>\n",
       "      <th>z_wrist_r_m10</th>\n",
       "      <th>z_shoulder_l_m10</th>\n",
       "      <th>z_elbow_r_m10</th>\n",
       "      <th>watchToRobot</th>\n",
       "      <th>shoulder_wrist</th>\n",
       "      <th>handHigh</th>\n",
       "      <th>handInnerSide</th>\n",
       "      <th>x11</th>\n",
       "      <th>y11</th>\n",
       "      <th>x14</th>\n",
       "      <th>y14</th>\n",
       "      <th>x16</th>\n",
       "      <th>y16</th>\n",
       "      <th>x502</th>\n",
       "      <th>y502</th>\n",
       "      <th>x514</th>\n",
       "      <th>y514</th>\n",
       "    </tr>\n",
       "  </thead>\n",
       "  <tbody>\n",
       "    <tr>\n",
       "      <th>0</th>\n",
       "      <td>negative</td>\n",
       "      <td>0.160</td>\n",
       "      <td>0.344</td>\n",
       "      <td>0.170</td>\n",
       "      <td>0.184</td>\n",
       "      <td>0.163</td>\n",
       "      <td>1</td>\n",
       "      <td>0</td>\n",
       "      <td>0</td>\n",
       "      <td>0</td>\n",
       "      <td>0.691</td>\n",
       "      <td>0.273</td>\n",
       "      <td>0.617</td>\n",
       "      <td>0.398</td>\n",
       "      <td>0.613</td>\n",
       "      <td>0.462</td>\n",
       "      <td>0.608</td>\n",
       "      <td>0.469</td>\n",
       "      <td>0.607</td>\n",
       "      <td>0.520</td>\n",
       "    </tr>\n",
       "    <tr>\n",
       "      <th>1</th>\n",
       "      <td>negative</td>\n",
       "      <td>0.159</td>\n",
       "      <td>0.325</td>\n",
       "      <td>0.170</td>\n",
       "      <td>0.182</td>\n",
       "      <td>0.162</td>\n",
       "      <td>1</td>\n",
       "      <td>0</td>\n",
       "      <td>0</td>\n",
       "      <td>0</td>\n",
       "      <td>0.687</td>\n",
       "      <td>0.268</td>\n",
       "      <td>0.593</td>\n",
       "      <td>0.403</td>\n",
       "      <td>0.581</td>\n",
       "      <td>0.480</td>\n",
       "      <td>0.589</td>\n",
       "      <td>0.485</td>\n",
       "      <td>0.568</td>\n",
       "      <td>0.572</td>\n",
       "    </tr>\n",
       "    <tr>\n",
       "      <th>2</th>\n",
       "      <td>negative</td>\n",
       "      <td>0.158</td>\n",
       "      <td>0.298</td>\n",
       "      <td>0.166</td>\n",
       "      <td>0.178</td>\n",
       "      <td>0.160</td>\n",
       "      <td>1</td>\n",
       "      <td>0</td>\n",
       "      <td>0</td>\n",
       "      <td>0</td>\n",
       "      <td>0.696</td>\n",
       "      <td>0.272</td>\n",
       "      <td>0.591</td>\n",
       "      <td>0.415</td>\n",
       "      <td>0.569</td>\n",
       "      <td>0.521</td>\n",
       "      <td>0.565</td>\n",
       "      <td>0.533</td>\n",
       "      <td>0.526</td>\n",
       "      <td>0.610</td>\n",
       "    </tr>\n",
       "    <tr>\n",
       "      <th>3</th>\n",
       "      <td>negative</td>\n",
       "      <td>0.157</td>\n",
       "      <td>0.275</td>\n",
       "      <td>0.165</td>\n",
       "      <td>0.181</td>\n",
       "      <td>0.159</td>\n",
       "      <td>1</td>\n",
       "      <td>0</td>\n",
       "      <td>0</td>\n",
       "      <td>0</td>\n",
       "      <td>0.701</td>\n",
       "      <td>0.268</td>\n",
       "      <td>0.589</td>\n",
       "      <td>0.418</td>\n",
       "      <td>0.539</td>\n",
       "      <td>0.551</td>\n",
       "      <td>0.536</td>\n",
       "      <td>0.561</td>\n",
       "      <td>0.479</td>\n",
       "      <td>0.629</td>\n",
       "    </tr>\n",
       "    <tr>\n",
       "      <th>4</th>\n",
       "      <td>negative</td>\n",
       "      <td>0.157</td>\n",
       "      <td>0.279</td>\n",
       "      <td>0.164</td>\n",
       "      <td>0.182</td>\n",
       "      <td>0.159</td>\n",
       "      <td>1</td>\n",
       "      <td>0</td>\n",
       "      <td>1</td>\n",
       "      <td>1</td>\n",
       "      <td>0.698</td>\n",
       "      <td>0.270</td>\n",
       "      <td>0.586</td>\n",
       "      <td>0.454</td>\n",
       "      <td>0.515</td>\n",
       "      <td>0.567</td>\n",
       "      <td>0.506</td>\n",
       "      <td>0.582</td>\n",
       "      <td>0.450</td>\n",
       "      <td>0.619</td>\n",
       "    </tr>\n",
       "  </tbody>\n",
       "</table>\n",
       "</div>"
      ],
      "text/plain": [
       "      class  z_nose_m10  head_posture_y  z_wrist_r_m10  z_shoulder_l_m10  \\\n",
       "0  negative       0.160           0.344          0.170             0.184   \n",
       "1  negative       0.159           0.325          0.170             0.182   \n",
       "2  negative       0.158           0.298          0.166             0.178   \n",
       "3  negative       0.157           0.275          0.165             0.181   \n",
       "4  negative       0.157           0.279          0.164             0.182   \n",
       "\n",
       "   z_elbow_r_m10  watchToRobot  shoulder_wrist  handHigh  handInnerSide   x11  \\\n",
       "0          0.163             1               0         0              0 0.691   \n",
       "1          0.162             1               0         0              0 0.687   \n",
       "2          0.160             1               0         0              0 0.696   \n",
       "3          0.159             1               0         0              0 0.701   \n",
       "4          0.159             1               0         1              1 0.698   \n",
       "\n",
       "    y11   x14   y14   x16   y16  x502  y502  x514  y514  \n",
       "0 0.273 0.617 0.398 0.613 0.462 0.608 0.469 0.607 0.520  \n",
       "1 0.268 0.593 0.403 0.581 0.480 0.589 0.485 0.568 0.572  \n",
       "2 0.272 0.591 0.415 0.569 0.521 0.565 0.533 0.526 0.610  \n",
       "3 0.268 0.589 0.418 0.539 0.551 0.536 0.561 0.479 0.629  \n",
       "4 0.270 0.586 0.454 0.515 0.567 0.506 0.582 0.450 0.619  "
      ]
     },
     "execution_count": 33,
     "metadata": {},
     "output_type": "execute_result"
    }
   ],
   "source": [
    "# rechte Hand Optimierung\n",
    "df = df.loc[:, [\"class\",\"z_nose_m10\",\"head_posture_y\",\"z_wrist_r_m10\", \"z_shoulder_l_m10\",'z_elbow_r_m10','watchToRobot','shoulder_wrist','handHigh', 'handInnerSide',\"x11\",\"y11\",\"x14\",\"y14\",\"x16\",\"y16\", 'x502', 'y502', 'x514', 'y514']]\n",
    "\n",
    "df.head()"
   ]
  },
  {
   "cell_type": "code",
   "execution_count": 34,
   "metadata": {},
   "outputs": [
    {
     "name": "stdout",
     "output_type": "stream",
     "text": [
      "HandOver #Rows: 197\n",
      "HighFive #Rows: 75\n",
      "Negative #Rows: 258\n"
     ]
    }
   ],
   "source": [
    "row = 0\n",
    "countHandOver = 0\n",
    "countHighFive = 0 \n",
    "countNegative = 0\n",
    "for val in df[\"class\"]:\n",
    "    if val == \"highFive\":\n",
    "        df.iloc[row, 0] = 1\n",
    "        countHighFive += 1\n",
    "    if val == \"handOver\":\n",
    "        df.iloc[row, 0] = 2\n",
    "        countHandOver += 1\n",
    "    if val == \"negative\":\n",
    "        df.iloc[row, 0] = 0\n",
    "        countNegative += 1\n",
    "    row +=1\n",
    "\n",
    "print(\"HandOver #Rows: \" + str(countHandOver))    \n",
    "print(\"HighFive #Rows: \" + str(countHighFive))\n",
    "print(\"Negative #Rows: \" + str(countNegative))\n"
   ]
  },
  {
   "cell_type": "code",
   "execution_count": 35,
   "metadata": {},
   "outputs": [
    {
     "name": "stdout",
     "output_type": "stream",
     "text": [
      "Features with Rolling: \n",
      " \n",
      "z_wrist_r_m10\n",
      "z_shoulder_l_m10\n",
      "z_elbow_r_m10\n",
      "shoulder_wrist\n",
      "handHigh\n",
      "handInnerSide\n",
      "x11\n",
      "y11\n",
      "x14\n",
      "y14\n",
      "x16\n",
      "y16\n"
     ]
    }
   ],
   "source": [
    "no_rolling_features_arr = ['class', 'z_nose_m10', 'head_posture_y', 'watchToRobot','x502', 'y502', 'x514', 'y514']\n",
    "\n",
    "print(\"Features with Rolling: \")\n",
    "print(\" \")\n",
    "\n",
    "for col_name in df.columns:\n",
    "    if col_name not in no_rolling_features_arr:\n",
    "        #df[col_name + '_moving_avg_12'] = df[col_name].rolling(12).mean()\n",
    "        #df[col_name + '_moving_sum_12'] = df[col_name].rolling(12).sum()\n",
    "        #df[col_name + '_moving_var_12'] = df[col_name].rolling(12).var()\n",
    "        #df[col_name + '_moving_std_12'] = df[col_name].rolling(12).std()\n",
    "\n",
    "        df[col_name + '_moving_avg_8'] = df[col_name].rolling(8).mean()\n",
    "        df[col_name + '_moving_sum_8'] = df[col_name].rolling(8).sum()\n",
    "        df[col_name + '_moving_var_8'] = df[col_name].rolling(8).var()\n",
    "        df[col_name + '_moving_std_8'] = df[col_name].rolling(8).std()\n",
    "\n",
    "        #df[col_name + '_moving_avg_16'] = df[col_name].rolling(16).mean()\n",
    "        #df[col_name + '_moving_sum_16'] = df[col_name].rolling(16).sum()\n",
    "        #df[col_name + '_moving_var_16'] = df[col_name].rolling(16).var()\n",
    "        #df[col_name + '_moving_std_16'] = df[col_name].rolling(16).std()\n",
    "\n",
    "        df[col_name + '_moving_avg_4'] = df[col_name].rolling(4).mean()\n",
    "        df[col_name + '_moving_sum_4'] = df[col_name].rolling(4).sum()\n",
    "        df[col_name + '_moving_var_4'] = df[col_name].rolling(4).var()\n",
    "        df[col_name + '_moving_std_4'] = df[col_name].rolling(4).std()\n",
    "\n",
    "        print(col_name)"
   ]
  },
  {
   "cell_type": "code",
   "execution_count": 36,
   "metadata": {},
   "outputs": [],
   "source": [
    "# Drop rows with NaN values \n",
    "df = df.dropna()\n",
    "#df = df.reset_index()"
   ]
  },
  {
   "cell_type": "code",
   "execution_count": 37,
   "metadata": {},
   "outputs": [],
   "source": [
    "X_val = df.drop('class', axis=1) # features\n",
    "y_val = df['class'] # target value\n",
    "\n",
    "y_val = y_val.to_numpy(dtype=\"int64\")"
   ]
  },
  {
   "cell_type": "code",
   "execution_count": 38,
   "metadata": {},
   "outputs": [],
   "source": [
    "#y_pred = fit_models['xgb'].predict(X_val)\n",
    "#len(y_pred)"
   ]
  },
  {
   "cell_type": "code",
   "execution_count": 39,
   "metadata": {},
   "outputs": [
    {
     "name": "stdout",
     "output_type": "stream",
     "text": [
      "        accuracy           precision            recall              f1\n",
      "lr 0.7762906309751434 0.774029304029304 0.6296771178118884 0.6246635184929196\n",
      "rc 0.6902485659655831 0.6730228139639444 0.5407052669187885 0.525202007697675\n",
      "rf 0.8489483747609943 0.8321208566306607 0.862235165373475 0.8308524471339696\n",
      "rf_max 0.847036328871893 0.8367538130716893 0.8601790918671619 0.8331610997027412\n",
      "gb 0.887189292543021 0.8983839444590297 0.8803341849747092 0.8825374865004901\n",
      "xgb 0.8986615678776291 0.8925475473518177 0.9066368255123892 0.8907153981061224\n",
      "xgb15 0.9024856596558317 0.8973031023049146 0.9103849463960291 0.8965907347752724\n",
      "nn0 0.8546845124282982 0.8924258537161762 0.8401513629632626 0.8613931592563898\n",
      "nn 0.8355640535372849 0.8856457155449657 0.7707755329499824 0.806476100362341\n"
     ]
    }
   ],
   "source": [
    "print(\"        accuracy           precision            recall              f1\")\n",
    "for algo, model in fit_models.items():\n",
    "    y_pred = model.predict(X_val)\n",
    "    print(algo, accuracy_score(y_val, y_pred), precision_score(y_val, y_pred, average='macro'), recall_score(y_val, y_pred, average='macro'), f1_score(y_val, y_pred, average='macro'))\n"
   ]
  },
  {
   "cell_type": "code",
   "execution_count": 40,
   "metadata": {},
   "outputs": [
    {
     "name": "stdout",
     "output_type": "stream",
     "text": [
      "lr\n",
      "[[233   0  18]\n",
      " [ 36  10  29]\n",
      " [ 31   3 163]] costs: 258\n",
      " \n",
      "rc\n",
      "[[238   0  13]\n",
      " [ 11   6  58]\n",
      " [ 77   3 117]] costs: 375\n",
      " \n",
      "rf\n",
      "[[232  17   2]\n",
      " [  4  71   0]\n",
      " [ 36  20 141]] costs: 136\n",
      " \n",
      "rf_max\n",
      "[[233  16   2]\n",
      " [  4  71   0]\n",
      " [ 42  16 139]] costs: 134\n",
      " \n",
      "gb\n",
      "[[245   6   0]\n",
      " [  8  67   0]\n",
      " [ 40   5 152]] costs: 77\n",
      " \n",
      "xgb\n",
      "[[246   5   0]\n",
      " [  2  73   0]\n",
      " [ 33  13 151]] costs: 68\n",
      " \n",
      "xgb15\n",
      "[[245   6   0]\n",
      " [  1  73   1]\n",
      " [ 33  10 154]] costs: 72\n",
      " \n",
      "nn0\n",
      "[[231   0  20]\n",
      " [ 14  61   0]\n",
      " [ 41   1 155]] costs: 136\n",
      " \n",
      "nn\n",
      "[[239   0  12]\n",
      " [ 27  43   5]\n",
      " [ 41   1 155]] costs: 137\n",
      " \n"
     ]
    }
   ],
   "source": [
    "costs = [[0, 4, 4], \n",
    "        [1, 0, 4],\n",
    "        [1, 1, 0]]\n",
    "\n",
    "for algo, model in fit_models.items():\n",
    "    y_pred = model.predict(X_val)\n",
    "    cm = confusion_matrix(y_val, y_pred)\n",
    "    cmWithCosts = cm*costs\n",
    "    print(algo)\n",
    "    print(cm , end =\" \")\n",
    "    print(\"costs: \" + str(sum(sum(cmWithCosts))))\n",
    "    print(\" \")\n",
    "    "
   ]
  },
  {
   "cell_type": "code",
   "execution_count": null,
   "metadata": {},
   "outputs": [],
   "source": []
  },
  {
   "cell_type": "markdown",
   "metadata": {},
   "source": [
    "## Export Model"
   ]
  },
  {
   "cell_type": "code",
   "execution_count": 722,
   "metadata": {},
   "outputs": [],
   "source": [
    "with open('2022-01-14_xgb-rolling4-16.pkl', 'wb') as f:\n",
    "    pickle.dump(fit_models['xgb'], f)"
   ]
  },
  {
   "cell_type": "code",
   "execution_count": null,
   "metadata": {},
   "outputs": [],
   "source": []
  }
 ],
 "metadata": {
  "kernelspec": {
   "display_name": "Python 3",
   "language": "python",
   "name": "python3"
  },
  "language_info": {
   "codemirror_mode": {
    "name": "ipython",
    "version": 3
   },
   "file_extension": ".py",
   "mimetype": "text/x-python",
   "name": "python",
   "nbconvert_exporter": "python",
   "pygments_lexer": "ipython3",
   "version": "3.6.9"
  },
  "toc": {
   "base_numbering": 1,
   "nav_menu": {},
   "number_sections": true,
   "sideBar": true,
   "skip_h1_title": false,
   "title_cell": "Table of Contents",
   "title_sidebar": "Contents",
   "toc_cell": false,
   "toc_position": {},
   "toc_section_display": true,
   "toc_window_display": true
  },
  "varInspector": {
   "cols": {
    "lenName": 16,
    "lenType": 16,
    "lenVar": 40
   },
   "kernels_config": {
    "python": {
     "delete_cmd_postfix": "",
     "delete_cmd_prefix": "del ",
     "library": "var_list.py",
     "varRefreshCmd": "print(var_dic_list())"
    },
    "r": {
     "delete_cmd_postfix": ") ",
     "delete_cmd_prefix": "rm(",
     "library": "var_list.r",
     "varRefreshCmd": "cat(var_dic_list()) "
    }
   },
   "types_to_exclude": [
    "module",
    "function",
    "builtin_function_or_method",
    "instance",
    "_Feature"
   ],
   "window_display": false
  }
 },
 "nbformat": 4,
 "nbformat_minor": 2
}
